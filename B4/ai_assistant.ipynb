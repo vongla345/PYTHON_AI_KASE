{
 "cells": [
  {
   "cell_type": "markdown",
   "metadata": {},
   "source": [
    "Import các thư viện cần thiết"
   ]
  },
  {
   "cell_type": "code",
   "execution_count": 37,
   "metadata": {},
   "outputs": [],
   "source": [
    "\n",
    "import pyttsx3\n",
    "import datetime\n",
    "import speech_recognition as sr\n",
    "import webbrowser as wb"
   ]
  },
  {
   "cell_type": "markdown",
   "metadata": {},
   "source": [
    "Lấy giọng nói từ kho dữ liệu"
   ]
  },
  {
   "cell_type": "code",
   "execution_count": 38,
   "metadata": {},
   "outputs": [],
   "source": [
    "ai_assistant = pyttsx3.init()\n",
    "voice = ai_assistant.getProperty('voices')\n",
    "ai_assistant.setProperty('voice', voice[1].id) # thay đổi số thành các số khác để chuyển giọng nói"
   ]
  },
  {
   "cell_type": "markdown",
   "metadata": {},
   "source": [
    "Các chức năng của AIBot"
   ]
  },
  {
   "cell_type": "code",
   "execution_count": 28,
   "metadata": {},
   "outputs": [],
   "source": [
    "#Truyền vào text mình yêu cầu bot đọc\n",
    "def speak(text):\n",
    "    ai_assistant.say(text)\n",
    "    ai_assistant.runAndWait()\n",
    "#Hàm lấy thời gian hiện tại\n",
    "def time():\n",
    "    time = datetime.datetime.now().strftime(\"%I:%M %p\")\n",
    "    speak(\"Now the time is\" + time)\n",
    "#Hàm chào người dùng\n",
    "def welcome_user():\n",
    "    hour = datetime.datetime.now().hour\n",
    "    if hour >= 6 and hour < 12:\n",
    "        speak(\"Good Morning Sir\")\n",
    "    elif hour >= 12 and hour < 18:\n",
    "        speak(\"Good Afternoon Sir\")\n",
    "    else:\n",
    "        speak(\"Good Evening Sir\")\n",
    "    speak(\"How can I help you?\")"
   ]
  },
  {
   "cell_type": "code",
   "execution_count": 39,
   "metadata": {},
   "outputs": [
    {
     "name": "stdout",
     "output_type": "stream",
     "text": [
      "Please typing in the command\n"
     ]
    },
    {
     "data": {
      "text/plain": [
       "'command'"
      ]
     },
     "execution_count": 39,
     "metadata": {},
     "output_type": "execute_result"
    }
   ],
   "source": [
    "def command():\n",
    "    c = sr.Recognizer()\n",
    "    with sr.Microphone() as source:\n",
    "        c.pause_threshold = 1\n",
    "        audio = c.listen(source)\n",
    "    try:\n",
    "        c.adjust_for_ambient_noise(source,duration = 2)\n",
    "        print(\"Recognizing...\")\n",
    "        query = c.recognize_google(audio, language='en-in')\n",
    "        print(f\"User said: {query}\\n\")\n",
    "    except Exception as e:\n",
    "        print(\"Please typing in the command\")\n",
    "        query = str(input(\"Your command is: ...\"))\n",
    "    return query\n",
    "command()"
   ]
  },
  {
   "cell_type": "markdown",
   "metadata": {},
   "source": [
    "Hàm main thực thi chương trình"
   ]
  },
  {
   "cell_type": "code",
   "execution_count": 36,
   "metadata": {},
   "outputs": [
    {
     "name": "stdout",
     "output_type": "stream",
     "text": [
      "Please typing in the command\n",
      "Please typing in the command\n",
      "Please typing in the command\n"
     ]
    }
   ],
   "source": [
    "if __name__ == \"__main__\":\n",
    "    welcome_user()\n",
    "    while True:\n",
    "        query = command().lower()\n",
    "        if \"time\" in query:\n",
    "            time()\n",
    "        elif \"exit\" in query:\n",
    "            speak(\"Goodbye Sir\")\n",
    "            break\n",
    "        elif 'google' in query:\n",
    "            speak(\"What should i search for?\")\n",
    "            search = command().lower()\n",
    "            url = f\"https://www.google.com/search?q={search}\" \n",
    "            wb.get().open(url)\n",
    "            speak(f\"Here is your {search} on google\")\n",
    "        elif 'youtube' in query:\n",
    "            speak(\"What should i search for?\")\n",
    "            search = command().lower()\n",
    "            url = f\"https://www.youtube.com/search?q={search}\" \n",
    "            wb.get().open(url)\n",
    "            speak(f\"Here is your {search} on youtube\")"
   ]
  }
 ],
 "metadata": {
  "kernelspec": {
   "display_name": "base",
   "language": "python",
   "name": "python3"
  },
  "language_info": {
   "codemirror_mode": {
    "name": "ipython",
    "version": 3
   },
   "file_extension": ".py",
   "mimetype": "text/x-python",
   "name": "python",
   "nbconvert_exporter": "python",
   "pygments_lexer": "ipython3",
   "version": "3.11.5"
  }
 },
 "nbformat": 4,
 "nbformat_minor": 2
}
