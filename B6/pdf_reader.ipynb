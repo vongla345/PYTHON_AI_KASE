{
 "cells": [
  {
   "cell_type": "code",
   "execution_count": 2,
   "metadata": {},
   "outputs": [],
   "source": [
    "import pyttsx3"
   ]
  },
  {
   "cell_type": "code",
   "execution_count": 3,
   "metadata": {},
   "outputs": [],
   "source": [
    "#Khai báo reader\n",
    "reader = pyttsx3.init()\n",
    "#Chỉnh giọng nói\n",
    "voice = reader.getProperty('voices')\n",
    "reader.setProperty('voice', voice[2].id)\n",
    "\n",
    "#Chỉnh âm lượng\n",
    "volum = reader.getProperty('volume')\n",
    "reader.setProperty('volume', 0.5)"
   ]
  },
  {
   "cell_type": "code",
   "execution_count": 4,
   "metadata": {},
   "outputs": [
    {
     "name": "stdout",
     "output_type": "stream",
     "text": [
      "392\n"
     ]
    }
   ],
   "source": [
    "import PyPDF2\n",
    "\n",
    "book = open('Introduction to Machine Learning with Python ( PDFDrive.com )-min.pdf', 'rb')\n",
    "pdfReader = PyPDF2.PdfReader(book) #Đọc file pdf\n",
    "\n",
    "pages = len(pdfReader.pages) #Số trang của file pdf\n",
    "print(pages)"
   ]
  },
  {
   "cell_type": "code",
   "execution_count": null,
   "metadata": {},
   "outputs": [],
   "source": [
    "for num in range(10):\n",
    "    page =  pdfReader.pages[num]\n",
    "    text = page.extract_text()\n",
    "    if text != '':\n",
    "        reader.say(text)\n",
    "        reader.runAndWait()\n",
    "        if reader._inLoop:\n",
    "            reader.endLoop()"
   ]
  }
 ],
 "metadata": {
  "kernelspec": {
   "display_name": "base",
   "language": "python",
   "name": "python3"
  },
  "language_info": {
   "codemirror_mode": {
    "name": "ipython",
    "version": 3
   },
   "file_extension": ".py",
   "mimetype": "text/x-python",
   "name": "python",
   "nbconvert_exporter": "python",
   "pygments_lexer": "ipython3",
   "version": "3.11.5"
  }
 },
 "nbformat": 4,
 "nbformat_minor": 2
}
